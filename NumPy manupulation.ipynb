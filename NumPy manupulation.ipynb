{
 "cells": [
  {
   "cell_type": "code",
   "execution_count": 1,
   "id": "254d048a-a896-4aec-8db4-a3151bc96a0e",
   "metadata": {},
   "outputs": [],
   "source": [
    "# NumPy - Array manipulation"
   ]
  },
  {
   "cell_type": "code",
   "execution_count": 2,
   "id": "07fae7f9-d625-409f-8830-7faffc7fe2a0",
   "metadata": {},
   "outputs": [],
   "source": [
    "import numpy as np"
   ]
  },
  {
   "cell_type": "code",
   "execution_count": 3,
   "id": "f7feb817-5579-4c12-8ece-573a5e5245d1",
   "metadata": {},
   "outputs": [],
   "source": [
    "arr=np.random.randint(1,10,(3,4))"
   ]
  },
  {
   "cell_type": "code",
   "execution_count": 4,
   "id": "11adc872-b099-4ed5-a82c-8c7f0a663a1c",
   "metadata": {},
   "outputs": [
    {
     "data": {
      "text/plain": [
       "array([[7, 1, 1, 3],\n",
       "       [1, 3, 6, 9],\n",
       "       [6, 3, 4, 2]])"
      ]
     },
     "execution_count": 4,
     "metadata": {},
     "output_type": "execute_result"
    }
   ],
   "source": [
    "arr"
   ]
  },
  {
   "cell_type": "code",
   "execution_count": 5,
   "id": "f80007b3-8931-45d0-bbf7-9d7f4ddd3db2",
   "metadata": {},
   "outputs": [
    {
     "data": {
      "text/plain": [
       "array([[7, 1, 1, 3],\n",
       "       [1, 3, 6, 9],\n",
       "       [6, 3, 4, 2]])"
      ]
     },
     "execution_count": 5,
     "metadata": {},
     "output_type": "execute_result"
    }
   ],
   "source": [
    "arr.reshape(3,4)"
   ]
  },
  {
   "cell_type": "code",
   "execution_count": 7,
   "id": "7b36788b-1b62-4b12-b461-42b395ca68f3",
   "metadata": {},
   "outputs": [
    {
     "data": {
      "text/plain": [
       "array([[7, 1, 1, 3, 1, 3],\n",
       "       [6, 9, 6, 3, 4, 2]])"
      ]
     },
     "execution_count": 7,
     "metadata": {},
     "output_type": "execute_result"
    }
   ],
   "source": [
    "arr.reshape(2,-122)"
   ]
  },
  {
   "cell_type": "code",
   "execution_count": 8,
   "id": "2069feb2-e03f-43aa-b0c9-31b6885eced2",
   "metadata": {},
   "outputs": [
    {
     "data": {
      "text/plain": [
       "array([[7, 1, 6],\n",
       "       [1, 3, 3],\n",
       "       [1, 6, 4],\n",
       "       [3, 9, 2]])"
      ]
     },
     "execution_count": 8,
     "metadata": {},
     "output_type": "execute_result"
    }
   ],
   "source": [
    "arr.T"
   ]
  },
  {
   "cell_type": "code",
   "execution_count": 9,
   "id": "1093a8d9-ed85-4103-a47a-181e9174962a",
   "metadata": {},
   "outputs": [
    {
     "data": {
      "text/plain": [
       "array([[7, 1, 1, 3],\n",
       "       [1, 3, 6, 9],\n",
       "       [6, 3, 4, 2]])"
      ]
     },
     "execution_count": 9,
     "metadata": {},
     "output_type": "execute_result"
    }
   ],
   "source": [
    "arr"
   ]
  },
  {
   "cell_type": "code",
   "execution_count": 10,
   "id": "de365e55-c5a4-493e-b5a0-1069d48c8709",
   "metadata": {},
   "outputs": [
    {
     "data": {
      "text/plain": [
       "array([7, 1, 1, 3, 1, 3, 6, 9, 6, 3, 4, 2])"
      ]
     },
     "execution_count": 10,
     "metadata": {},
     "output_type": "execute_result"
    }
   ],
   "source": [
    "arr.flatten()"
   ]
  },
  {
   "cell_type": "code",
   "execution_count": 11,
   "id": "d534f9ce-00ad-4859-af6a-b11be9f864a6",
   "metadata": {},
   "outputs": [],
   "source": [
    "arr1=np.array([1,3,4,5])"
   ]
  },
  {
   "cell_type": "code",
   "execution_count": 13,
   "id": "b3861c7d-6a83-42c5-b577-36ab84e2a9ca",
   "metadata": {},
   "outputs": [
    {
     "data": {
      "text/plain": [
       "1"
      ]
     },
     "execution_count": 13,
     "metadata": {},
     "output_type": "execute_result"
    }
   ],
   "source": [
    "arr1.ndim"
   ]
  },
  {
   "cell_type": "code",
   "execution_count": 16,
   "id": "2485308c-7089-49c0-843b-7af6060db3f1",
   "metadata": {},
   "outputs": [
    {
     "data": {
      "text/plain": [
       "array([[1],\n",
       "       [3],\n",
       "       [4],\n",
       "       [5]])"
      ]
     },
     "execution_count": 16,
     "metadata": {},
     "output_type": "execute_result"
    }
   ],
   "source": [
    "np.expand_dims(arr1,axis=1)"
   ]
  },
  {
   "cell_type": "code",
   "execution_count": 17,
   "id": "56a579d1-6719-4fee-875a-1255db629f79",
   "metadata": {},
   "outputs": [
    {
     "data": {
      "text/plain": [
       "array([[1, 3, 4, 5]])"
      ]
     },
     "execution_count": 17,
     "metadata": {},
     "output_type": "execute_result"
    }
   ],
   "source": [
    "np.expand_dims(arr1,axis=0)"
   ]
  },
  {
   "cell_type": "code",
   "execution_count": 18,
   "id": "a962f9c4-e828-48cb-9dac-62177807260a",
   "metadata": {},
   "outputs": [
    {
     "data": {
      "text/plain": [
       "array([[7, 1, 1, 3],\n",
       "       [1, 3, 6, 9],\n",
       "       [6, 3, 4, 2]])"
      ]
     },
     "execution_count": 18,
     "metadata": {},
     "output_type": "execute_result"
    }
   ],
   "source": [
    "arr"
   ]
  },
  {
   "cell_type": "code",
   "execution_count": 19,
   "id": "0f59d662-0b63-4bec-80f9-afd9ed21e4d5",
   "metadata": {},
   "outputs": [
    {
     "data": {
      "text/plain": [
       "array([[7, 1, 1, 3],\n",
       "       [1, 3, 6, 9],\n",
       "       [6, 3, 4, 2]])"
      ]
     },
     "execution_count": 19,
     "metadata": {},
     "output_type": "execute_result"
    }
   ],
   "source": [
    "np.squeeze(arr)"
   ]
  },
  {
   "cell_type": "code",
   "execution_count": 20,
   "id": "fb987cf7-7fef-4fbb-8115-9f98afa2d00a",
   "metadata": {},
   "outputs": [],
   "source": [
    "data=np.array([[2],[3],[5]])"
   ]
  },
  {
   "cell_type": "code",
   "execution_count": 21,
   "id": "2ab0f35c-233b-4ce1-9a38-20fa04dddd89",
   "metadata": {},
   "outputs": [
    {
     "data": {
      "text/plain": [
       "array([[2],\n",
       "       [3],\n",
       "       [5]])"
      ]
     },
     "execution_count": 21,
     "metadata": {},
     "output_type": "execute_result"
    }
   ],
   "source": [
    "data"
   ]
  },
  {
   "cell_type": "code",
   "execution_count": 22,
   "id": "3b013f9f-2c94-4458-b1a5-0384586a6048",
   "metadata": {},
   "outputs": [
    {
     "data": {
      "text/plain": [
       "array([2, 3, 5])"
      ]
     },
     "execution_count": 22,
     "metadata": {},
     "output_type": "execute_result"
    }
   ],
   "source": [
    "np.squeeze(data)"
   ]
  },
  {
   "cell_type": "code",
   "execution_count": 23,
   "id": "9757b598-1471-41d8-ac6a-edcac49979be",
   "metadata": {},
   "outputs": [
    {
     "data": {
      "text/plain": [
       "array([1, 1, 1, 3, 3, 3, 4, 4, 4, 5, 5, 5])"
      ]
     },
     "execution_count": 23,
     "metadata": {},
     "output_type": "execute_result"
    }
   ],
   "source": [
    "np.repeat(arr1,3)"
   ]
  },
  {
   "cell_type": "code",
   "execution_count": 24,
   "id": "0c7943e5-4d02-459c-89dd-d5c2292c699a",
   "metadata": {},
   "outputs": [
    {
     "data": {
      "text/plain": [
       "array([4, 5, 1, 3])"
      ]
     },
     "execution_count": 24,
     "metadata": {},
     "output_type": "execute_result"
    }
   ],
   "source": [
    "np.roll(arr1,2)"
   ]
  },
  {
   "cell_type": "code",
   "execution_count": 25,
   "id": "7567fa09-27f3-4ba7-9045-915f41fed073",
   "metadata": {},
   "outputs": [
    {
     "data": {
      "text/plain": [
       "array([1, 3, 4, 5])"
      ]
     },
     "execution_count": 25,
     "metadata": {},
     "output_type": "execute_result"
    }
   ],
   "source": [
    "arr1"
   ]
  },
  {
   "cell_type": "code",
   "execution_count": 26,
   "id": "c61328ee-9b94-4471-86b6-f0ae280d9770",
   "metadata": {},
   "outputs": [
    {
     "data": {
      "text/plain": [
       "array([[1, 0, 0, 0],\n",
       "       [0, 3, 0, 0],\n",
       "       [0, 0, 4, 0],\n",
       "       [0, 0, 0, 5]])"
      ]
     },
     "execution_count": 26,
     "metadata": {},
     "output_type": "execute_result"
    }
   ],
   "source": [
    "np.diag(arr1)"
   ]
  },
  {
   "cell_type": "code",
   "execution_count": 27,
   "id": "edde6d41-7606-4bee-8a08-753bd04c4a30",
   "metadata": {},
   "outputs": [],
   "source": [
    "#NumPy - Binary operators"
   ]
  },
  {
   "cell_type": "code",
   "execution_count": 28,
   "id": "5243bc3a-296d-4b67-a6b8-2424c8c27392",
   "metadata": {},
   "outputs": [],
   "source": [
    "arr1=np.random.randint(1,10,(4,5))\n",
    "arr2=np.random.randint(1,10,(4,5))"
   ]
  },
  {
   "cell_type": "code",
   "execution_count": 29,
   "id": "b5f95493-789c-4339-924b-ca2bdf93d570",
   "metadata": {},
   "outputs": [
    {
     "data": {
      "text/plain": [
       "array([[7, 1, 9, 2, 1],\n",
       "       [4, 4, 3, 4, 8],\n",
       "       [1, 1, 4, 4, 5],\n",
       "       [8, 7, 2, 6, 3]])"
      ]
     },
     "execution_count": 29,
     "metadata": {},
     "output_type": "execute_result"
    }
   ],
   "source": [
    "arr1"
   ]
  },
  {
   "cell_type": "code",
   "execution_count": 30,
   "id": "424be94d-661d-4bea-8c0d-6904bf1293f6",
   "metadata": {},
   "outputs": [
    {
     "data": {
      "text/plain": [
       "array([[4, 4, 2, 7, 2],\n",
       "       [6, 9, 4, 9, 7],\n",
       "       [2, 3, 9, 9, 1],\n",
       "       [2, 9, 3, 4, 5]])"
      ]
     },
     "execution_count": 30,
     "metadata": {},
     "output_type": "execute_result"
    }
   ],
   "source": [
    "arr2"
   ]
  },
  {
   "cell_type": "code",
   "execution_count": 31,
   "id": "05f38634-6b5a-49a9-9c2c-f64827dba4a2",
   "metadata": {},
   "outputs": [
    {
     "data": {
      "text/plain": [
       "array([[11,  5, 11,  9,  3],\n",
       "       [10, 13,  7, 13, 15],\n",
       "       [ 3,  4, 13, 13,  6],\n",
       "       [10, 16,  5, 10,  8]])"
      ]
     },
     "execution_count": 31,
     "metadata": {},
     "output_type": "execute_result"
    }
   ],
   "source": [
    "arr1+arr2"
   ]
  },
  {
   "cell_type": "code",
   "execution_count": 32,
   "id": "e9f26b76-6ee6-405e-9bc3-e21d2d60079a",
   "metadata": {},
   "outputs": [
    {
     "data": {
      "text/plain": [
       "array([[28,  4, 18, 14,  2],\n",
       "       [24, 36, 12, 36, 56],\n",
       "       [ 2,  3, 36, 36,  5],\n",
       "       [16, 63,  6, 24, 15]])"
      ]
     },
     "execution_count": 32,
     "metadata": {},
     "output_type": "execute_result"
    }
   ],
   "source": [
    "arr1*arr2"
   ]
  },
  {
   "cell_type": "code",
   "execution_count": 33,
   "id": "deae1b57-4537-4103-8db0-74ac0748bac5",
   "metadata": {},
   "outputs": [
    {
     "data": {
      "text/plain": [
       "array([[1.75      , 0.25      , 4.5       , 0.28571429, 0.5       ],\n",
       "       [0.66666667, 0.44444444, 0.75      , 0.44444444, 1.14285714],\n",
       "       [0.5       , 0.33333333, 0.44444444, 0.44444444, 5.        ],\n",
       "       [4.        , 0.77777778, 0.66666667, 1.5       , 0.6       ]])"
      ]
     },
     "execution_count": 33,
     "metadata": {},
     "output_type": "execute_result"
    }
   ],
   "source": [
    "arr1/arr2"
   ]
  },
  {
   "cell_type": "code",
   "execution_count": 34,
   "id": "54e2eb8d-2b4c-4aa9-927e-c9ab42596c9e",
   "metadata": {},
   "outputs": [
    {
     "data": {
      "text/plain": [
       "array([[ 3, -3,  7, -5, -1],\n",
       "       [-2, -5, -1, -5,  1],\n",
       "       [-1, -2, -5, -5,  4],\n",
       "       [ 6, -2, -1,  2, -2]])"
      ]
     },
     "execution_count": 34,
     "metadata": {},
     "output_type": "execute_result"
    }
   ],
   "source": [
    "arr1-arr2"
   ]
  },
  {
   "cell_type": "code",
   "execution_count": 35,
   "id": "25fceb89-e1bf-4e01-aa78-aa7229623c0e",
   "metadata": {},
   "outputs": [
    {
     "data": {
      "text/plain": [
       "array([[3, 1, 1, 2, 1],\n",
       "       [4, 4, 3, 4, 1],\n",
       "       [1, 1, 4, 4, 0],\n",
       "       [0, 7, 2, 2, 3]])"
      ]
     },
     "execution_count": 35,
     "metadata": {},
     "output_type": "execute_result"
    }
   ],
   "source": [
    "arr1%arr2"
   ]
  },
  {
   "cell_type": "code",
   "execution_count": 36,
   "id": "98dd5946-4f56-4f86-96c7-e241bcd48277",
   "metadata": {},
   "outputs": [
    {
     "data": {
      "text/plain": [
       "array([[    2401,        1,       81,      128,        1],\n",
       "       [    4096,   262144,       81,   262144,  2097152],\n",
       "       [       1,        1,   262144,   262144,        5],\n",
       "       [      64, 40353607,        8,     1296,      243]])"
      ]
     },
     "execution_count": 36,
     "metadata": {},
     "output_type": "execute_result"
    }
   ],
   "source": [
    "arr1**arr2"
   ]
  },
  {
   "cell_type": "code",
   "execution_count": 37,
   "id": "5d288582-9d25-4b5f-846f-c182b5f4cced",
   "metadata": {},
   "outputs": [
    {
     "data": {
      "text/plain": [
       "array([[7, 1, 9, 2, 1],\n",
       "       [4, 4, 3, 4, 8],\n",
       "       [1, 1, 4, 4, 5],\n",
       "       [8, 7, 2, 6, 3]])"
      ]
     },
     "execution_count": 37,
     "metadata": {},
     "output_type": "execute_result"
    }
   ],
   "source": [
    "arr1"
   ]
  },
  {
   "cell_type": "code",
   "execution_count": 38,
   "id": "b4642817-a320-41e2-ad12-e5899ef6a14f",
   "metadata": {},
   "outputs": [
    {
     "data": {
      "text/plain": [
       "array([[4, 4, 2, 7, 2],\n",
       "       [6, 9, 4, 9, 7],\n",
       "       [2, 3, 9, 9, 1],\n",
       "       [2, 9, 3, 4, 5]])"
      ]
     },
     "execution_count": 38,
     "metadata": {},
     "output_type": "execute_result"
    }
   ],
   "source": [
    "arr2"
   ]
  },
  {
   "cell_type": "code",
   "execution_count": 39,
   "id": "de7520ae-9259-42ff-a174-31023c3c16dc",
   "metadata": {},
   "outputs": [
    {
     "data": {
      "text/plain": [
       "array([[-7, -1, -9, -2, -1],\n",
       "       [-4, -4, -3, -4, -8],\n",
       "       [-1, -1, -4, -4, -5],\n",
       "       [-8, -7, -2, -6, -3]])"
      ]
     },
     "execution_count": 39,
     "metadata": {},
     "output_type": "execute_result"
    }
   ],
   "source": [
    "-arr1"
   ]
  },
  {
   "cell_type": "code",
   "execution_count": 40,
   "id": "d8ee7762-f267-4d95-bf17-805baf8e460f",
   "metadata": {},
   "outputs": [
    {
     "data": {
      "text/plain": [
       "array([[ 7,  5, 11,  7,  3],\n",
       "       [ 6, 13,  7, 13, 15],\n",
       "       [ 3,  3, 13, 13,  5],\n",
       "       [10, 15,  3,  6,  7]])"
      ]
     },
     "execution_count": 40,
     "metadata": {},
     "output_type": "execute_result"
    }
   ],
   "source": [
    "arr1|arr2"
   ]
  },
  {
   "cell_type": "code",
   "execution_count": 41,
   "id": "0f40d49a-850f-4140-8fd2-7856f11fb7b0",
   "metadata": {},
   "outputs": [
    {
     "data": {
      "text/plain": [
       "array([[ True, False,  True, False, False],\n",
       "       [False, False, False, False,  True],\n",
       "       [False, False, False, False,  True],\n",
       "       [ True, False, False,  True, False]])"
      ]
     },
     "execution_count": 41,
     "metadata": {},
     "output_type": "execute_result"
    }
   ],
   "source": [
    "arr1>arr2"
   ]
  },
  {
   "cell_type": "code",
   "execution_count": 42,
   "id": "88485707-24b4-4ab4-8f1e-e2f862358830",
   "metadata": {},
   "outputs": [],
   "source": [
    "# NumPy- String Function"
   ]
  },
  {
   "cell_type": "code",
   "execution_count": 44,
   "id": "366f3db7-2378-4631-9bfc-da897abdaa89",
   "metadata": {},
   "outputs": [],
   "source": [
    "arr=np.array(['mithi','kumar'])"
   ]
  },
  {
   "cell_type": "code",
   "execution_count": 45,
   "id": "53dd8222-520d-4d19-8101-6e553de2fc52",
   "metadata": {},
   "outputs": [
    {
     "data": {
      "text/plain": [
       "array(['mithi', 'kumar'], dtype='<U5')"
      ]
     },
     "execution_count": 45,
     "metadata": {},
     "output_type": "execute_result"
    }
   ],
   "source": [
    "arr"
   ]
  },
  {
   "cell_type": "code",
   "execution_count": 46,
   "id": "f6465508-41ca-49b5-82de-08779a1f8f19",
   "metadata": {},
   "outputs": [
    {
     "data": {
      "text/plain": [
       "array(['MITHI', 'KUMAR'], dtype='<U5')"
      ]
     },
     "execution_count": 46,
     "metadata": {},
     "output_type": "execute_result"
    }
   ],
   "source": [
    "np.char.upper(arr)"
   ]
  },
  {
   "cell_type": "code",
   "execution_count": 47,
   "id": "5ed5c4d0-66fe-440c-b322-a13280ea8775",
   "metadata": {},
   "outputs": [
    {
     "data": {
      "text/plain": [
       "array(['Mithi', 'Kumar'], dtype='<U5')"
      ]
     },
     "execution_count": 47,
     "metadata": {},
     "output_type": "execute_result"
    }
   ],
   "source": [
    "np.char.title(arr)"
   ]
  },
  {
   "cell_type": "code",
   "execution_count": 48,
   "id": "a0aa4cdd-d8f0-4ee7-9ecc-26d8721a54ff",
   "metadata": {},
   "outputs": [
    {
     "data": {
      "text/plain": [
       "array(['Mithi', 'Kumar'], dtype='<U5')"
      ]
     },
     "execution_count": 48,
     "metadata": {},
     "output_type": "execute_result"
    }
   ],
   "source": [
    "np.char.capitalize(arr)"
   ]
  },
  {
   "cell_type": "code",
   "execution_count": 49,
   "id": "49a74aa4-4078-41af-933b-db66d76b09af",
   "metadata": {},
   "outputs": [],
   "source": [
    "#NumPy - Mathmatical Function"
   ]
  },
  {
   "cell_type": "code",
   "execution_count": 50,
   "id": "a1ca904b-313e-424b-8c03-c1fdd6ab9f1b",
   "metadata": {},
   "outputs": [
    {
     "data": {
      "text/plain": [
       "array([[7, 1, 9, 2, 1],\n",
       "       [4, 4, 3, 4, 8],\n",
       "       [1, 1, 4, 4, 5],\n",
       "       [8, 7, 2, 6, 3]])"
      ]
     },
     "execution_count": 50,
     "metadata": {},
     "output_type": "execute_result"
    }
   ],
   "source": [
    "arr1"
   ]
  },
  {
   "cell_type": "code",
   "execution_count": 52,
   "id": "a7bb7d17-034e-44ef-b2f9-04149ba83c59",
   "metadata": {},
   "outputs": [
    {
     "data": {
      "text/plain": [
       "array([[ 0.6569866 ,  0.84147098,  0.41211849,  0.90929743,  0.84147098],\n",
       "       [-0.7568025 , -0.7568025 ,  0.14112001, -0.7568025 ,  0.98935825],\n",
       "       [ 0.84147098,  0.84147098, -0.7568025 , -0.7568025 , -0.95892427],\n",
       "       [ 0.98935825,  0.6569866 ,  0.90929743, -0.2794155 ,  0.14112001]])"
      ]
     },
     "execution_count": 52,
     "metadata": {},
     "output_type": "execute_result"
    }
   ],
   "source": [
    "np.sin(arr1)"
   ]
  },
  {
   "cell_type": "code",
   "execution_count": 53,
   "id": "bc86ed1a-6e33-476e-9629-768ab84a551c",
   "metadata": {},
   "outputs": [
    {
     "data": {
      "text/plain": [
       "array([[ 0.75390225,  0.54030231, -0.91113026, -0.41614684,  0.54030231],\n",
       "       [-0.65364362, -0.65364362, -0.9899925 , -0.65364362, -0.14550003],\n",
       "       [ 0.54030231,  0.54030231, -0.65364362, -0.65364362,  0.28366219],\n",
       "       [-0.14550003,  0.75390225, -0.41614684,  0.96017029, -0.9899925 ]])"
      ]
     },
     "execution_count": 53,
     "metadata": {},
     "output_type": "execute_result"
    }
   ],
   "source": [
    "np.cos(arr1)"
   ]
  },
  {
   "cell_type": "code",
   "execution_count": 54,
   "id": "5bbf6adc-31ea-4c6b-8d1d-f1dc418a0a1e",
   "metadata": {},
   "outputs": [
    {
     "data": {
      "text/plain": [
       "array([[ 0.87144798,  1.55740772, -0.45231566, -2.18503986,  1.55740772],\n",
       "       [ 1.15782128,  1.15782128, -0.14254654,  1.15782128, -6.79971146],\n",
       "       [ 1.55740772,  1.55740772,  1.15782128,  1.15782128, -3.38051501],\n",
       "       [-6.79971146,  0.87144798, -2.18503986, -0.29100619, -0.14254654]])"
      ]
     },
     "execution_count": 54,
     "metadata": {},
     "output_type": "execute_result"
    }
   ],
   "source": [
    "np.tan(arr1)"
   ]
  },
  {
   "cell_type": "code",
   "execution_count": 55,
   "id": "5daa51d3-7941-4272-ae11-7902c984cd8d",
   "metadata": {},
   "outputs": [
    {
     "data": {
      "text/plain": [
       "array([[0.84509804, 0.        , 0.95424251, 0.30103   , 0.        ],\n",
       "       [0.60205999, 0.60205999, 0.47712125, 0.60205999, 0.90308999],\n",
       "       [0.        , 0.        , 0.60205999, 0.60205999, 0.69897   ],\n",
       "       [0.90308999, 0.84509804, 0.30103   , 0.77815125, 0.47712125]])"
      ]
     },
     "execution_count": 55,
     "metadata": {},
     "output_type": "execute_result"
    }
   ],
   "source": [
    "np.log10(arr1)"
   ]
  },
  {
   "cell_type": "code",
   "execution_count": 56,
   "id": "25a0be95-6408-4562-86b7-edc1b7491a16",
   "metadata": {},
   "outputs": [
    {
     "data": {
      "text/plain": [
       "array([[1.09663316e+03, 2.71828183e+00, 8.10308393e+03, 7.38905610e+00,\n",
       "        2.71828183e+00],\n",
       "       [5.45981500e+01, 5.45981500e+01, 2.00855369e+01, 5.45981500e+01,\n",
       "        2.98095799e+03],\n",
       "       [2.71828183e+00, 2.71828183e+00, 5.45981500e+01, 5.45981500e+01,\n",
       "        1.48413159e+02],\n",
       "       [2.98095799e+03, 1.09663316e+03, 7.38905610e+00, 4.03428793e+02,\n",
       "        2.00855369e+01]])"
      ]
     },
     "execution_count": 56,
     "metadata": {},
     "output_type": "execute_result"
    }
   ],
   "source": [
    "np.exp(arr1)"
   ]
  },
  {
   "cell_type": "code",
   "execution_count": 58,
   "id": "7f5d5fc3-447b-49da-8b19-9aedc7cb7eb5",
   "metadata": {},
   "outputs": [
    {
     "data": {
      "text/plain": [
       "array([[49,  1, 81,  4,  1],\n",
       "       [16, 16,  9, 16, 64],\n",
       "       [ 1,  1, 16, 16, 25],\n",
       "       [64, 49,  4, 36,  9]])"
      ]
     },
     "execution_count": 58,
     "metadata": {},
     "output_type": "execute_result"
    }
   ],
   "source": [
    "np.power(arr1,2)"
   ]
  },
  {
   "cell_type": "code",
   "execution_count": 59,
   "id": "d47f14d8-fb59-4ce4-a99d-86e5923bfb09",
   "metadata": {},
   "outputs": [
    {
     "data": {
      "text/plain": [
       "4.2"
      ]
     },
     "execution_count": 59,
     "metadata": {},
     "output_type": "execute_result"
    }
   ],
   "source": [
    "np.mean(arr1)"
   ]
  },
  {
   "cell_type": "code",
   "execution_count": 60,
   "id": "4543d055-05cc-4bb1-b0fa-890e7010bd53",
   "metadata": {},
   "outputs": [
    {
     "data": {
      "text/plain": [
       "4.0"
      ]
     },
     "execution_count": 60,
     "metadata": {},
     "output_type": "execute_result"
    }
   ],
   "source": [
    "np.median(arr1)"
   ]
  },
  {
   "cell_type": "code",
   "execution_count": 61,
   "id": "c8415093-4b7b-4b07-84c0-eaf14389f44e",
   "metadata": {},
   "outputs": [
    {
     "data": {
      "text/plain": [
       "2.5019992006393608"
      ]
     },
     "execution_count": 61,
     "metadata": {},
     "output_type": "execute_result"
    }
   ],
   "source": [
    "np.std(arr1)"
   ]
  },
  {
   "cell_type": "code",
   "execution_count": 62,
   "id": "ad5fed78-64f7-4944-9585-8b1107dddf37",
   "metadata": {},
   "outputs": [
    {
     "data": {
      "text/plain": [
       "6.26"
      ]
     },
     "execution_count": 62,
     "metadata": {},
     "output_type": "execute_result"
    }
   ],
   "source": [
    "np.var(arr1)"
   ]
  },
  {
   "cell_type": "code",
   "execution_count": 63,
   "id": "429351fe-4937-4398-912a-de2821e0c3a9",
   "metadata": {},
   "outputs": [
    {
     "data": {
      "text/plain": [
       "1"
      ]
     },
     "execution_count": 63,
     "metadata": {},
     "output_type": "execute_result"
    }
   ],
   "source": [
    "np.min(arr1)"
   ]
  },
  {
   "cell_type": "code",
   "execution_count": 64,
   "id": "4e4e9d5b-a891-4351-b2bf-f67ab4565f18",
   "metadata": {},
   "outputs": [
    {
     "data": {
      "text/plain": [
       "9"
      ]
     },
     "execution_count": 64,
     "metadata": {},
     "output_type": "execute_result"
    }
   ],
   "source": [
    "np.max(arr1)"
   ]
  },
  {
   "cell_type": "code",
   "execution_count": null,
   "id": "a51ca1b6-8d58-47a4-905e-22073006eac6",
   "metadata": {},
   "outputs": [],
   "source": []
  }
 ],
 "metadata": {
  "kernelspec": {
   "display_name": "Python 3 (ipykernel)",
   "language": "python",
   "name": "python3"
  },
  "language_info": {
   "codemirror_mode": {
    "name": "ipython",
    "version": 3
   },
   "file_extension": ".py",
   "mimetype": "text/x-python",
   "name": "python",
   "nbconvert_exporter": "python",
   "pygments_lexer": "ipython3",
   "version": "3.10.8"
  }
 },
 "nbformat": 4,
 "nbformat_minor": 5
}
