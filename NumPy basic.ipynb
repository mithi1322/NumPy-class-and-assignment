{
 "cells": [
  {
   "cell_type": "code",
   "execution_count": 15,
   "id": "e2661c26-39f0-4c0e-810c-26fdff754848",
   "metadata": {},
   "outputs": [],
   "source": [
    "import numpy as np"
   ]
  },
  {
   "cell_type": "code",
   "execution_count": 16,
   "id": "e8904eba-b15b-4a98-8a3c-af4e225ff241",
   "metadata": {},
   "outputs": [],
   "source": [
    "l=[1,2,3,4]"
   ]
  },
  {
   "cell_type": "code",
   "execution_count": 17,
   "id": "abd22515-30d6-4546-b07f-111197da38fa",
   "metadata": {},
   "outputs": [],
   "source": [
    "ar=np.array(l)"
   ]
  },
  {
   "cell_type": "code",
   "execution_count": 18,
   "id": "e5fa6aa8-cd0b-4f0f-b9d1-d847ad97ecbd",
   "metadata": {},
   "outputs": [
    {
     "data": {
      "text/plain": [
       "array([1, 2, 3, 4])"
      ]
     },
     "execution_count": 18,
     "metadata": {},
     "output_type": "execute_result"
    }
   ],
   "source": [
    "ar"
   ]
  },
  {
   "cell_type": "code",
   "execution_count": 19,
   "id": "300f895d-b657-4a6b-a2a3-29bc04c18561",
   "metadata": {},
   "outputs": [
    {
     "data": {
      "text/plain": [
       "numpy.ndarray"
      ]
     },
     "execution_count": 19,
     "metadata": {},
     "output_type": "execute_result"
    }
   ],
   "source": [
    "type(ar)"
   ]
  },
  {
   "cell_type": "code",
   "execution_count": 20,
   "id": "1f6b5f47-f49c-46f3-be44-a6ae83b4b06b",
   "metadata": {},
   "outputs": [
    {
     "data": {
      "text/plain": [
       "array([[1, 2],\n",
       "       [3, 4]])"
      ]
     },
     "execution_count": 20,
     "metadata": {},
     "output_type": "execute_result"
    }
   ],
   "source": [
    "np.array([[1,2],[3,4]])"
   ]
  },
  {
   "cell_type": "code",
   "execution_count": 21,
   "id": "567ce959-4a56-4505-8073-98cbafc36a05",
   "metadata": {},
   "outputs": [
    {
     "data": {
      "text/plain": [
       "array([1, 2, 3, 4])"
      ]
     },
     "execution_count": 21,
     "metadata": {},
     "output_type": "execute_result"
    }
   ],
   "source": [
    "np.asarray(l)"
   ]
  },
  {
   "cell_type": "code",
   "execution_count": 22,
   "id": "05b2ba42-7286-4e5c-92f3-9b952ae8d2a5",
   "metadata": {},
   "outputs": [],
   "source": [
    "a=[2,4,5,5]"
   ]
  },
  {
   "cell_type": "code",
   "execution_count": 23,
   "id": "b7076ff3-0a2d-40d7-92db-e4c1d6111f41",
   "metadata": {},
   "outputs": [
    {
     "data": {
      "text/plain": [
       "array([2, 4, 5, 5])"
      ]
     },
     "execution_count": 23,
     "metadata": {},
     "output_type": "execute_result"
    }
   ],
   "source": [
    "np.asanyarray(a)"
   ]
  },
  {
   "cell_type": "code",
   "execution_count": 24,
   "id": "ed793e74-c3c7-4a4d-b238-b13b56fd7f13",
   "metadata": {},
   "outputs": [],
   "source": [
    "b= np.matrix(l)"
   ]
  },
  {
   "cell_type": "code",
   "execution_count": 25,
   "id": "f026483a-eb2a-4b3d-a2b0-09079a9a4d79",
   "metadata": {},
   "outputs": [
    {
     "data": {
      "text/plain": [
       "matrix([[1, 2, 3, 4]])"
      ]
     },
     "execution_count": 25,
     "metadata": {},
     "output_type": "execute_result"
    }
   ],
   "source": [
    "b"
   ]
  },
  {
   "cell_type": "code",
   "execution_count": 26,
   "id": "1e1c4e7c-eeec-4fbf-98fd-a6c152623827",
   "metadata": {},
   "outputs": [
    {
     "data": {
      "text/plain": [
       "matrix([[1, 2, 3, 4]])"
      ]
     },
     "execution_count": 26,
     "metadata": {},
     "output_type": "execute_result"
    }
   ],
   "source": [
    "np.asanyarray(b)"
   ]
  },
  {
   "cell_type": "code",
   "execution_count": 28,
   "id": "cdea6bbc-5344-4835-a821-2d5c519fafc8",
   "metadata": {},
   "outputs": [],
   "source": [
    "a=np.array(l)"
   ]
  },
  {
   "cell_type": "code",
   "execution_count": 29,
   "id": "e59c30a7-5e77-46ca-8e0c-dfc48f6c1f2c",
   "metadata": {},
   "outputs": [
    {
     "data": {
      "text/plain": [
       "array([1, 2, 3, 4])"
      ]
     },
     "execution_count": 29,
     "metadata": {},
     "output_type": "execute_result"
    }
   ],
   "source": [
    "a"
   ]
  },
  {
   "cell_type": "code",
   "execution_count": 31,
   "id": "f700f895-4fd7-47b7-b3a0-9334c751db06",
   "metadata": {},
   "outputs": [],
   "source": [
    "c=a"
   ]
  },
  {
   "cell_type": "code",
   "execution_count": 32,
   "id": "a646d39c-5190-425b-a485-6913646f6247",
   "metadata": {},
   "outputs": [
    {
     "data": {
      "text/plain": [
       "array([1, 2, 3, 4])"
      ]
     },
     "execution_count": 32,
     "metadata": {},
     "output_type": "execute_result"
    }
   ],
   "source": [
    "a"
   ]
  },
  {
   "cell_type": "code",
   "execution_count": 33,
   "id": "47a74e9b-c14e-4e75-90a1-4cdfa3ff8f89",
   "metadata": {},
   "outputs": [
    {
     "data": {
      "text/plain": [
       "array([1, 2, 3, 4])"
      ]
     },
     "execution_count": 33,
     "metadata": {},
     "output_type": "execute_result"
    }
   ],
   "source": [
    "a"
   ]
  },
  {
   "cell_type": "code",
   "execution_count": 34,
   "id": "b0d5cf1b-39ee-4356-8ae9-3caa0a51836e",
   "metadata": {},
   "outputs": [],
   "source": [
    "c[0]=23"
   ]
  },
  {
   "cell_type": "code",
   "execution_count": 35,
   "id": "2aeb2e15-ed12-4b86-aad4-427cf0637d69",
   "metadata": {},
   "outputs": [
    {
     "data": {
      "text/plain": [
       "array([23,  2,  3,  4])"
      ]
     },
     "execution_count": 35,
     "metadata": {},
     "output_type": "execute_result"
    }
   ],
   "source": [
    "c"
   ]
  },
  {
   "cell_type": "code",
   "execution_count": 36,
   "id": "984e2d48-cf31-4ff3-a4eb-ace101e1a4e9",
   "metadata": {},
   "outputs": [
    {
     "data": {
      "text/plain": [
       "array([23,  2,  3,  4])"
      ]
     },
     "execution_count": 36,
     "metadata": {},
     "output_type": "execute_result"
    }
   ],
   "source": [
    "a"
   ]
  },
  {
   "cell_type": "code",
   "execution_count": 37,
   "id": "68e8f386-aba3-4772-99c9-f06b8a296ff9",
   "metadata": {},
   "outputs": [],
   "source": [
    "d=np.copy(a)"
   ]
  },
  {
   "cell_type": "code",
   "execution_count": 38,
   "id": "770b47b0-8e80-4fdb-b587-7ff1803d1572",
   "metadata": {},
   "outputs": [
    {
     "data": {
      "text/plain": [
       "array([23,  2,  3,  4])"
      ]
     },
     "execution_count": 38,
     "metadata": {},
     "output_type": "execute_result"
    }
   ],
   "source": [
    "d"
   ]
  },
  {
   "cell_type": "code",
   "execution_count": 39,
   "id": "f0cc4b31-ddd5-419c-a848-6149ebb655e3",
   "metadata": {},
   "outputs": [
    {
     "data": {
      "text/plain": [
       "array([23,  2,  3,  4])"
      ]
     },
     "execution_count": 39,
     "metadata": {},
     "output_type": "execute_result"
    }
   ],
   "source": [
    "a"
   ]
  },
  {
   "cell_type": "code",
   "execution_count": 40,
   "id": "2ab1a67c-5a18-4d82-84d4-cb33971c870c",
   "metadata": {},
   "outputs": [],
   "source": [
    "a[1]=121"
   ]
  },
  {
   "cell_type": "code",
   "execution_count": 41,
   "id": "86268204-1b0e-4d13-be4c-d3b7762822c0",
   "metadata": {},
   "outputs": [
    {
     "data": {
      "text/plain": [
       "array([ 23, 121,   3,   4])"
      ]
     },
     "execution_count": 41,
     "metadata": {},
     "output_type": "execute_result"
    }
   ],
   "source": [
    "a"
   ]
  },
  {
   "cell_type": "code",
   "execution_count": 42,
   "id": "8945fc8d-2e32-488a-8581-313c2c4fe9ad",
   "metadata": {},
   "outputs": [
    {
     "data": {
      "text/plain": [
       "array([23,  2,  3,  4])"
      ]
     },
     "execution_count": 42,
     "metadata": {},
     "output_type": "execute_result"
    }
   ],
   "source": [
    "d"
   ]
  },
  {
   "cell_type": "code",
   "execution_count": 44,
   "id": "bee2274c-05bb-40cf-97de-46c05f407533",
   "metadata": {},
   "outputs": [
    {
     "data": {
      "text/plain": [
       "array([[ True, False, False],\n",
       "       [False,  True, False],\n",
       "       [False, False,  True]])"
      ]
     },
     "execution_count": 44,
     "metadata": {},
     "output_type": "execute_result"
    }
   ],
   "source": [
    "np.fromfunction(lambda i,j:i==j,(3,3))"
   ]
  },
  {
   "cell_type": "code",
   "execution_count": 45,
   "id": "3c4845a2-6897-4bc7-9206-fa41ad0dadaa",
   "metadata": {},
   "outputs": [
    {
     "data": {
      "text/plain": [
       "array([[0., 0., 0.],\n",
       "       [0., 1., 2.],\n",
       "       [0., 2., 4.]])"
      ]
     },
     "execution_count": 45,
     "metadata": {},
     "output_type": "execute_result"
    }
   ],
   "source": [
    "np.fromfunction(lambda i,j:i*j,(3,3))"
   ]
  },
  {
   "cell_type": "code",
   "execution_count": 46,
   "id": "67df795a-0586-4464-972f-b6a287a43387",
   "metadata": {},
   "outputs": [],
   "source": [
    "iterable=(i*i for i in range (4))"
   ]
  },
  {
   "cell_type": "code",
   "execution_count": 47,
   "id": "c83f2bf2-3003-4075-bcdb-35fea148974b",
   "metadata": {},
   "outputs": [
    {
     "data": {
      "text/plain": [
       "array([0., 1., 4., 9.])"
      ]
     },
     "execution_count": 47,
     "metadata": {},
     "output_type": "execute_result"
    }
   ],
   "source": [
    "np.fromiter(iterable,float)"
   ]
  },
  {
   "cell_type": "code",
   "execution_count": 48,
   "id": "3a11b813-242c-4bd6-9bd3-d9bbabca2263",
   "metadata": {},
   "outputs": [
    {
     "data": {
      "text/plain": [
       "array([2331.,  213.])"
      ]
     },
     "execution_count": 48,
     "metadata": {},
     "output_type": "execute_result"
    }
   ],
   "source": [
    "np.fromstring('2331 213',sep=' ')"
   ]
  },
  {
   "cell_type": "code",
   "execution_count": 50,
   "id": "c39498b2-6303-4059-90ed-dc9f1d19ee46",
   "metadata": {},
   "outputs": [
    {
     "data": {
      "text/plain": [
       "array([2., 3.])"
      ]
     },
     "execution_count": 50,
     "metadata": {},
     "output_type": "execute_result"
    }
   ],
   "source": [
    "np.fromstring('2,3',sep=',')"
   ]
  },
  {
   "cell_type": "code",
   "execution_count": 51,
   "id": "209f0735-f093-4ce4-ad6b-e127fe7d8e7f",
   "metadata": {},
   "outputs": [],
   "source": [
    "# numpy -Data types"
   ]
  },
  {
   "cell_type": "code",
   "execution_count": 52,
   "id": "c1706e8c-f932-43dd-8ee9-38401a705cbd",
   "metadata": {},
   "outputs": [],
   "source": [
    "l=[2,3,4,55,]"
   ]
  },
  {
   "cell_type": "code",
   "execution_count": 53,
   "id": "02065738-4938-4e8e-ae14-8d1d3223cea7",
   "metadata": {},
   "outputs": [],
   "source": [
    "ar=np.array(l)"
   ]
  },
  {
   "cell_type": "code",
   "execution_count": 54,
   "id": "edf5e9b3-2102-40c8-a7dc-26daa0eac3ee",
   "metadata": {},
   "outputs": [
    {
     "data": {
      "text/plain": [
       "array([ 2,  3,  4, 55])"
      ]
     },
     "execution_count": 54,
     "metadata": {},
     "output_type": "execute_result"
    }
   ],
   "source": [
    "ar"
   ]
  },
  {
   "cell_type": "code",
   "execution_count": 55,
   "id": "6f35ff2b-33ef-472a-bba8-347a936fbb84",
   "metadata": {},
   "outputs": [
    {
     "data": {
      "text/plain": [
       "1"
      ]
     },
     "execution_count": 55,
     "metadata": {},
     "output_type": "execute_result"
    }
   ],
   "source": [
    "ar.ndim"
   ]
  },
  {
   "cell_type": "code",
   "execution_count": 56,
   "id": "097277ce-59b3-461d-86e5-f219f888a9a5",
   "metadata": {},
   "outputs": [],
   "source": [
    "ar2=np.array([[1,2,3,4],[2,2,42,34]])"
   ]
  },
  {
   "cell_type": "code",
   "execution_count": 57,
   "id": "8aa67cf0-6827-4af6-ab7f-58320a5557e4",
   "metadata": {},
   "outputs": [
    {
     "data": {
      "text/plain": [
       "2"
      ]
     },
     "execution_count": 57,
     "metadata": {},
     "output_type": "execute_result"
    }
   ],
   "source": [
    "ar2.ndim"
   ]
  },
  {
   "cell_type": "code",
   "execution_count": 58,
   "id": "0955a154-b94b-41ff-b2a0-b857177f4317",
   "metadata": {},
   "outputs": [
    {
     "data": {
      "text/plain": [
       "4"
      ]
     },
     "execution_count": 58,
     "metadata": {},
     "output_type": "execute_result"
    }
   ],
   "source": [
    "ar.size"
   ]
  },
  {
   "cell_type": "code",
   "execution_count": 59,
   "id": "15abca3c-9452-4494-a21a-0319fae1e648",
   "metadata": {},
   "outputs": [
    {
     "data": {
      "text/plain": [
       "8"
      ]
     },
     "execution_count": 59,
     "metadata": {},
     "output_type": "execute_result"
    }
   ],
   "source": [
    "ar2.size"
   ]
  },
  {
   "cell_type": "code",
   "execution_count": 60,
   "id": "f767cf8d-53bb-4990-8bbf-504288159902",
   "metadata": {},
   "outputs": [
    {
     "data": {
      "text/plain": [
       "array([ 2,  3,  4, 55])"
      ]
     },
     "execution_count": 60,
     "metadata": {},
     "output_type": "execute_result"
    }
   ],
   "source": [
    "ar"
   ]
  },
  {
   "cell_type": "code",
   "execution_count": 61,
   "id": "05813c3d-347e-4037-a8eb-b72aca034385",
   "metadata": {},
   "outputs": [
    {
     "data": {
      "text/plain": [
       "array([[ 1,  2,  3,  4],\n",
       "       [ 2,  2, 42, 34]])"
      ]
     },
     "execution_count": 61,
     "metadata": {},
     "output_type": "execute_result"
    }
   ],
   "source": [
    "ar2"
   ]
  },
  {
   "cell_type": "code",
   "execution_count": 62,
   "id": "9f7b2e23-57a5-4552-a12a-fc8d8f83e62a",
   "metadata": {},
   "outputs": [
    {
     "data": {
      "text/plain": [
       "(4,)"
      ]
     },
     "execution_count": 62,
     "metadata": {},
     "output_type": "execute_result"
    }
   ],
   "source": [
    "ar.shape"
   ]
  },
  {
   "cell_type": "code",
   "execution_count": 63,
   "id": "6a646d78-b46e-4c89-b772-b2b0abc50555",
   "metadata": {},
   "outputs": [
    {
     "data": {
      "text/plain": [
       "(2, 4)"
      ]
     },
     "execution_count": 63,
     "metadata": {},
     "output_type": "execute_result"
    }
   ],
   "source": [
    "ar2.shape"
   ]
  },
  {
   "cell_type": "code",
   "execution_count": 64,
   "id": "99b017a2-8d10-428b-8f01-e9bbe0359d9f",
   "metadata": {},
   "outputs": [
    {
     "data": {
      "text/plain": [
       "dtype('int64')"
      ]
     },
     "execution_count": 64,
     "metadata": {},
     "output_type": "execute_result"
    }
   ],
   "source": [
    "ar.dtype"
   ]
  },
  {
   "cell_type": "code",
   "execution_count": 65,
   "id": "501b506f-b617-4a80-bad3-36749370eefe",
   "metadata": {},
   "outputs": [
    {
     "data": {
      "text/plain": [
       "dtype('int64')"
      ]
     },
     "execution_count": 65,
     "metadata": {},
     "output_type": "execute_result"
    }
   ],
   "source": [
    "ar2.dtype"
   ]
  },
  {
   "cell_type": "code",
   "execution_count": 70,
   "id": "d1c595d1-ac71-4031-bc65-8f0d79ae5981",
   "metadata": {},
   "outputs": [],
   "source": [
    "ar22=np.array([( 1.32,  2, 433,  14),\n",
    "       ( 21,  2, 42, 34)])"
   ]
  },
  {
   "cell_type": "code",
   "execution_count": 71,
   "id": "e1afa52f-2e1f-4834-a217-0c8d93a99274",
   "metadata": {},
   "outputs": [
    {
     "data": {
      "text/plain": [
       "array([[  1.32,   2.  , 433.  ,  14.  ],\n",
       "       [ 21.  ,   2.  ,  42.  ,  34.  ]])"
      ]
     },
     "execution_count": 71,
     "metadata": {},
     "output_type": "execute_result"
    }
   ],
   "source": [
    "ar22"
   ]
  },
  {
   "cell_type": "code",
   "execution_count": 73,
   "id": "ee7ca420-cd81-4fc6-bd3d-4646cbb4c6c2",
   "metadata": {},
   "outputs": [
    {
     "data": {
      "text/plain": [
       "dtype('float64')"
      ]
     },
     "execution_count": 73,
     "metadata": {},
     "output_type": "execute_result"
    }
   ],
   "source": [
    "ar22.dtype"
   ]
  },
  {
   "cell_type": "code",
   "execution_count": 74,
   "id": "48167485-ec0c-4236-8779-989d3e4960c5",
   "metadata": {},
   "outputs": [
    {
     "data": {
      "text/plain": [
       "range(0, 3)"
      ]
     },
     "execution_count": 74,
     "metadata": {},
     "output_type": "execute_result"
    }
   ],
   "source": [
    "range(3)"
   ]
  },
  {
   "cell_type": "code",
   "execution_count": 75,
   "id": "12f57bd7-1169-43bf-8b55-5305a5ea369d",
   "metadata": {},
   "outputs": [
    {
     "data": {
      "text/plain": [
       "[0, 1, 2]"
      ]
     },
     "execution_count": 75,
     "metadata": {},
     "output_type": "execute_result"
    }
   ],
   "source": [
    "list(range(3))"
   ]
  },
  {
   "cell_type": "code",
   "execution_count": 76,
   "id": "ca4c6e60-f801-4aa0-a44c-4a45d7641af9",
   "metadata": {},
   "outputs": [
    {
     "ename": "TypeError",
     "evalue": "'float' object cannot be interpreted as an integer",
     "output_type": "error",
     "traceback": [
      "\u001b[0;31m---------------------------------------------------------------------------\u001b[0m",
      "\u001b[0;31mTypeError\u001b[0m                                 Traceback (most recent call last)",
      "Cell \u001b[0;32mIn[76], line 1\u001b[0m\n\u001b[0;32m----> 1\u001b[0m \u001b[38;5;28mlist\u001b[39m(\u001b[38;5;28;43mrange\u001b[39;49m\u001b[43m(\u001b[49m\u001b[38;5;241;43m0.12\u001b[39;49m\u001b[43m,\u001b[49m\u001b[38;5;241;43m2.1\u001b[39;49m\u001b[43m)\u001b[49m)\n",
      "\u001b[0;31mTypeError\u001b[0m: 'float' object cannot be interpreted as an integer"
     ]
    }
   ],
   "source": [
    "list(range(0.12,2.1))"
   ]
  },
  {
   "cell_type": "code",
   "execution_count": 77,
   "id": "6304b905-b798-4eb8-a064-ab3cf9f02d67",
   "metadata": {},
   "outputs": [
    {
     "data": {
      "text/plain": [
       "array([2.1, 3.1, 4.1])"
      ]
     },
     "execution_count": 77,
     "metadata": {},
     "output_type": "execute_result"
    }
   ],
   "source": [
    "np.arange(2.1,4.5)"
   ]
  },
  {
   "cell_type": "code",
   "execution_count": 82,
   "id": "2f41269e-a215-4db9-b053-5909d26631cd",
   "metadata": {},
   "outputs": [
    {
     "data": {
      "text/plain": [
       "[2.1, 2.6, 3.1, 3.6, 4.1]"
      ]
     },
     "execution_count": 82,
     "metadata": {},
     "output_type": "execute_result"
    }
   ],
   "source": [
    "list(np.arange(2.1,4.5,.5))"
   ]
  },
  {
   "cell_type": "code",
   "execution_count": 84,
   "id": "27586834-fa42-4b09-a309-5b5682a5f50c",
   "metadata": {},
   "outputs": [
    {
     "data": {
      "text/plain": [
       "array([2.  , 2.75, 3.5 , 4.25, 5.  ])"
      ]
     },
     "execution_count": 84,
     "metadata": {},
     "output_type": "execute_result"
    }
   ],
   "source": [
    "np.linspace(2,5,5)"
   ]
  },
  {
   "cell_type": "code",
   "execution_count": 85,
   "id": "0eabf73b-3393-4a3a-b6a1-d32bd2ebc239",
   "metadata": {},
   "outputs": [
    {
     "data": {
      "text/plain": [
       "array([0., 0., 0., 0.])"
      ]
     },
     "execution_count": 85,
     "metadata": {},
     "output_type": "execute_result"
    }
   ],
   "source": [
    "np.zeros(4)"
   ]
  },
  {
   "cell_type": "code",
   "execution_count": 86,
   "id": "1b13e363-2452-4d01-bf04-cdd3e991e274",
   "metadata": {},
   "outputs": [
    {
     "data": {
      "text/plain": [
       "array([[0., 0., 0., 0., 0., 0.],\n",
       "       [0., 0., 0., 0., 0., 0.],\n",
       "       [0., 0., 0., 0., 0., 0.],\n",
       "       [0., 0., 0., 0., 0., 0.]])"
      ]
     },
     "execution_count": 86,
     "metadata": {},
     "output_type": "execute_result"
    }
   ],
   "source": [
    "np.zeros((4,6))"
   ]
  },
  {
   "cell_type": "code",
   "execution_count": 89,
   "id": "1f9cae58-8fb6-4d87-9a1e-55856236c138",
   "metadata": {},
   "outputs": [
    {
     "data": {
      "text/plain": [
       "array([[[0., 0., 0.],\n",
       "        [0., 0., 0.],\n",
       "        [0., 0., 0.],\n",
       "        [0., 0., 0.]],\n",
       "\n",
       "       [[0., 0., 0.],\n",
       "        [0., 0., 0.],\n",
       "        [0., 0., 0.],\n",
       "        [0., 0., 0.]],\n",
       "\n",
       "       [[0., 0., 0.],\n",
       "        [0., 0., 0.],\n",
       "        [0., 0., 0.],\n",
       "        [0., 0., 0.]]])"
      ]
     },
     "execution_count": 89,
     "metadata": {},
     "output_type": "execute_result"
    }
   ],
   "source": [
    "np.zeros((3,4,3))"
   ]
  },
  {
   "cell_type": "code",
   "execution_count": 91,
   "id": "1cf1e888-791c-4b6a-ab6d-7fe0957f1a6a",
   "metadata": {},
   "outputs": [
    {
     "data": {
      "text/plain": [
       "array([[1., 1., 1., 1.],\n",
       "       [1., 1., 1., 1.]])"
      ]
     },
     "execution_count": 91,
     "metadata": {},
     "output_type": "execute_result"
    }
   ],
   "source": [
    "np.ones((2,4))"
   ]
  },
  {
   "cell_type": "code",
   "execution_count": 93,
   "id": "04c2385e-0ff3-44a0-913f-9e20c4184b7a",
   "metadata": {},
   "outputs": [],
   "source": [
    "on=np.ones((2,5,6))"
   ]
  },
  {
   "cell_type": "code",
   "execution_count": 94,
   "id": "61f4632c-c454-4c31-ae87-a19a767843f4",
   "metadata": {},
   "outputs": [
    {
     "data": {
      "text/plain": [
       "array([[[5., 5., 5., 5., 5., 5.],\n",
       "        [5., 5., 5., 5., 5., 5.],\n",
       "        [5., 5., 5., 5., 5., 5.],\n",
       "        [5., 5., 5., 5., 5., 5.],\n",
       "        [5., 5., 5., 5., 5., 5.]],\n",
       "\n",
       "       [[5., 5., 5., 5., 5., 5.],\n",
       "        [5., 5., 5., 5., 5., 5.],\n",
       "        [5., 5., 5., 5., 5., 5.],\n",
       "        [5., 5., 5., 5., 5., 5.],\n",
       "        [5., 5., 5., 5., 5., 5.]]])"
      ]
     },
     "execution_count": 94,
     "metadata": {},
     "output_type": "execute_result"
    }
   ],
   "source": [
    "on+4"
   ]
  },
  {
   "cell_type": "code",
   "execution_count": 95,
   "id": "7bf300c7-1e03-4cd7-adc1-8dd15e7c39e5",
   "metadata": {},
   "outputs": [
    {
     "data": {
      "text/plain": [
       "array([[[2., 2., 2., 2., 2., 2.],\n",
       "        [2., 2., 2., 2., 2., 2.],\n",
       "        [2., 2., 2., 2., 2., 2.],\n",
       "        [2., 2., 2., 2., 2., 2.],\n",
       "        [2., 2., 2., 2., 2., 2.]],\n",
       "\n",
       "       [[2., 2., 2., 2., 2., 2.],\n",
       "        [2., 2., 2., 2., 2., 2.],\n",
       "        [2., 2., 2., 2., 2., 2.],\n",
       "        [2., 2., 2., 2., 2., 2.],\n",
       "        [2., 2., 2., 2., 2., 2.]]])"
      ]
     },
     "execution_count": 95,
     "metadata": {},
     "output_type": "execute_result"
    }
   ],
   "source": [
    "on*2"
   ]
  },
  {
   "cell_type": "code",
   "execution_count": 98,
   "id": "81d22381-73c6-4e12-89db-4b76f2c964ff",
   "metadata": {},
   "outputs": [
    {
     "data": {
      "text/plain": [
       "array([[0., 0., 0., 1., 1., 1.],\n",
       "       [2., 2., 2., 0., 1., 2.],\n",
       "       [0., 1., 2., 0., 1., 2.]])"
      ]
     },
     "execution_count": 98,
     "metadata": {},
     "output_type": "execute_result"
    }
   ],
   "source": [
    "np.empty((3,6))"
   ]
  },
  {
   "cell_type": "code",
   "execution_count": 99,
   "id": "fe10aa65-6e2f-41f9-a1b5-092875200fe9",
   "metadata": {},
   "outputs": [
    {
     "data": {
      "text/plain": [
       "array([[1., 0., 0.],\n",
       "       [0., 1., 0.],\n",
       "       [0., 0., 1.]])"
      ]
     },
     "execution_count": 99,
     "metadata": {},
     "output_type": "execute_result"
    }
   ],
   "source": [
    "np.eye(3)"
   ]
  },
  {
   "cell_type": "code",
   "execution_count": 100,
   "id": "3f5368b0-2dd3-408a-9500-3cd0e5b27aea",
   "metadata": {},
   "outputs": [
    {
     "data": {
      "text/plain": [
       "array([ 2.        ,  5.22222222,  8.44444444, 11.66666667, 14.88888889,\n",
       "       18.11111111, 21.33333333, 24.55555556, 27.77777778, 31.        ])"
      ]
     },
     "execution_count": 100,
     "metadata": {},
     "output_type": "execute_result"
    }
   ],
   "source": [
    "np.linspace(2,31,10)"
   ]
  },
  {
   "cell_type": "code",
   "execution_count": 101,
   "id": "3249b31c-7eb2-4b56-aee6-7caecba053b5",
   "metadata": {},
   "outputs": [
    {
     "data": {
      "text/plain": [
       "array([  16.        ,   19.69831061,   24.25146506,   29.85705573,\n",
       "         36.75834736,   45.254834  ,   55.71523605,   68.5935016 ,\n",
       "         84.44850629,  103.96830673,  128.        ,  157.58648491,\n",
       "        194.01172051,  238.85644583,  294.06677888,  362.03867197,\n",
       "        445.72188841,  548.74801282,  675.58805032,  831.74645387,\n",
       "       1024.        ])"
      ]
     },
     "execution_count": 101,
     "metadata": {},
     "output_type": "execute_result"
    }
   ],
   "source": [
    "np.logspace(2,5,21,base=4)"
   ]
  },
  {
   "cell_type": "code",
   "execution_count": 103,
   "id": "2f643c42-a141-4c76-b747-a7e1848c3d0a",
   "metadata": {},
   "outputs": [],
   "source": [
    "arr=np.random.randn(3,5)"
   ]
  },
  {
   "cell_type": "code",
   "execution_count": 104,
   "id": "6d4e032e-31c8-4daa-8196-f68793425ef2",
   "metadata": {},
   "outputs": [],
   "source": [
    "import pandas as pd"
   ]
  },
  {
   "cell_type": "code",
   "execution_count": 105,
   "id": "480d540e-fb6c-4b8c-a3a4-38ab335960fd",
   "metadata": {},
   "outputs": [
    {
     "data": {
      "text/html": [
       "<div>\n",
       "<style scoped>\n",
       "    .dataframe tbody tr th:only-of-type {\n",
       "        vertical-align: middle;\n",
       "    }\n",
       "\n",
       "    .dataframe tbody tr th {\n",
       "        vertical-align: top;\n",
       "    }\n",
       "\n",
       "    .dataframe thead th {\n",
       "        text-align: right;\n",
       "    }\n",
       "</style>\n",
       "<table border=\"1\" class=\"dataframe\">\n",
       "  <thead>\n",
       "    <tr style=\"text-align: right;\">\n",
       "      <th></th>\n",
       "      <th>0</th>\n",
       "      <th>1</th>\n",
       "      <th>2</th>\n",
       "      <th>3</th>\n",
       "      <th>4</th>\n",
       "    </tr>\n",
       "  </thead>\n",
       "  <tbody>\n",
       "    <tr>\n",
       "      <th>0</th>\n",
       "      <td>-0.648592</td>\n",
       "      <td>0.477049</td>\n",
       "      <td>0.778673</td>\n",
       "      <td>0.814280</td>\n",
       "      <td>-2.069031</td>\n",
       "    </tr>\n",
       "    <tr>\n",
       "      <th>1</th>\n",
       "      <td>-0.816561</td>\n",
       "      <td>0.103085</td>\n",
       "      <td>0.276029</td>\n",
       "      <td>0.369515</td>\n",
       "      <td>-0.667916</td>\n",
       "    </tr>\n",
       "    <tr>\n",
       "      <th>2</th>\n",
       "      <td>0.908594</td>\n",
       "      <td>-0.478317</td>\n",
       "      <td>-2.286136</td>\n",
       "      <td>0.329837</td>\n",
       "      <td>-2.064003</td>\n",
       "    </tr>\n",
       "  </tbody>\n",
       "</table>\n",
       "</div>"
      ],
      "text/plain": [
       "          0         1         2         3         4\n",
       "0 -0.648592  0.477049  0.778673  0.814280 -2.069031\n",
       "1 -0.816561  0.103085  0.276029  0.369515 -0.667916\n",
       "2  0.908594 -0.478317 -2.286136  0.329837 -2.064003"
      ]
     },
     "execution_count": 105,
     "metadata": {},
     "output_type": "execute_result"
    }
   ],
   "source": [
    "pd.DataFrame(arr)"
   ]
  },
  {
   "cell_type": "code",
   "execution_count": 106,
   "id": "a70d3c41-1c39-4438-a39e-35f0488692d3",
   "metadata": {},
   "outputs": [
    {
     "data": {
      "text/plain": [
       "array([[ 1.44610152, -0.2171403 ,  0.85193041, -1.61261346, -0.62717969],\n",
       "       [-0.71569432, -1.53739383, -1.03435349, -0.54757596,  0.27423634],\n",
       "       [ 1.493855  , -0.0511812 , -0.85128168, -0.51709485,  0.76084861]])"
      ]
     },
     "execution_count": 106,
     "metadata": {},
     "output_type": "execute_result"
    }
   ],
   "source": [
    "np.random.randn(3,5)"
   ]
  },
  {
   "cell_type": "code",
   "execution_count": 110,
   "id": "77c8aadc-caea-4767-ab66-06203f65e05c",
   "metadata": {},
   "outputs": [
    {
     "data": {
      "text/plain": [
       "array([[23, 14, 31, 35],\n",
       "       [19, 17, 27, 31],\n",
       "       [43, 20, 46,  3]])"
      ]
     },
     "execution_count": 110,
     "metadata": {},
     "output_type": "execute_result"
    }
   ],
   "source": [
    "np.random.randint(2,50,(3,4))"
   ]
  },
  {
   "cell_type": "code",
   "execution_count": 114,
   "id": "384b3d72-c29c-460f-afff-efd67dcaf4eb",
   "metadata": {},
   "outputs": [],
   "source": [
    "pd.DataFrame(np.random.randint(2,50,(325,23))).to_csv('test.csv')"
   ]
  },
  {
   "cell_type": "code",
   "execution_count": 115,
   "id": "2a9e4002-786b-44f2-bdb6-cde76124aa03",
   "metadata": {},
   "outputs": [],
   "source": [
    "ar=np.random.rand(4,5)"
   ]
  },
  {
   "cell_type": "code",
   "execution_count": 116,
   "id": "2ed18e5f-de70-49d1-9569-43633037c7fa",
   "metadata": {},
   "outputs": [
    {
     "data": {
      "text/plain": [
       "array([[0.12733311, 0.16554135, 0.08010938, 0.44674223, 0.94700991],\n",
       "       [0.92825365, 0.17007243, 0.60260598, 0.51584845, 0.30685109],\n",
       "       [0.59999348, 0.19697225, 0.49965123, 0.7013718 , 0.75225073],\n",
       "       [0.5770373 , 0.34585762, 0.96127209, 0.21022593, 0.88140595]])"
      ]
     },
     "execution_count": 116,
     "metadata": {},
     "output_type": "execute_result"
    }
   ],
   "source": [
    "ar"
   ]
  },
  {
   "cell_type": "code",
   "execution_count": 122,
   "id": "77d05e28-5e5e-464f-a932-20b2f80b0cca",
   "metadata": {},
   "outputs": [],
   "source": [
    "arr1=ar.reshape(10,-324)"
   ]
  },
  {
   "cell_type": "code",
   "execution_count": 123,
   "id": "7e2becff-c978-4d28-9a57-05a1f043a1cb",
   "metadata": {},
   "outputs": [
    {
     "data": {
      "text/plain": [
       "array([[0.12733311, 0.16554135],\n",
       "       [0.08010938, 0.44674223],\n",
       "       [0.94700991, 0.92825365],\n",
       "       [0.17007243, 0.60260598],\n",
       "       [0.51584845, 0.30685109],\n",
       "       [0.59999348, 0.19697225],\n",
       "       [0.49965123, 0.7013718 ],\n",
       "       [0.75225073, 0.5770373 ],\n",
       "       [0.34585762, 0.96127209],\n",
       "       [0.21022593, 0.88140595]])"
      ]
     },
     "execution_count": 123,
     "metadata": {},
     "output_type": "execute_result"
    }
   ],
   "source": [
    "arr1"
   ]
  },
  {
   "cell_type": "code",
   "execution_count": 125,
   "id": "7a36894e-0aeb-477e-a64f-834a87f38764",
   "metadata": {},
   "outputs": [
    {
     "data": {
      "text/plain": [
       "0.4467422300806644"
      ]
     },
     "execution_count": 125,
     "metadata": {},
     "output_type": "execute_result"
    }
   ],
   "source": [
    "arr1[1][1]"
   ]
  },
  {
   "cell_type": "code",
   "execution_count": 130,
   "id": "5a2e5715-5219-4788-8719-0bf101e00801",
   "metadata": {},
   "outputs": [
    {
     "data": {
      "text/plain": [
       "array([0.92825365, 0.60260598, 0.30685109])"
      ]
     },
     "execution_count": 130,
     "metadata": {},
     "output_type": "execute_result"
    }
   ],
   "source": [
    "arr1[2:5,1]"
   ]
  },
  {
   "cell_type": "code",
   "execution_count": 142,
   "id": "57af81b3-827d-452d-ae1a-942432fa79dc",
   "metadata": {},
   "outputs": [],
   "source": [
    "arr= np.random.randint(3,100,(4,5))"
   ]
  },
  {
   "cell_type": "code",
   "execution_count": 144,
   "id": "048ca567-dd85-4576-8d95-46d573c1a8d6",
   "metadata": {},
   "outputs": [
    {
     "data": {
      "text/plain": [
       "array([[60, 42, 94, 76, 16],\n",
       "       [96, 21, 68, 40, 79],\n",
       "       [51, 38, 61, 12, 78],\n",
       "       [ 8, 30, 30, 24, 37]])"
      ]
     },
     "execution_count": 144,
     "metadata": {},
     "output_type": "execute_result"
    }
   ],
   "source": [
    "arr"
   ]
  },
  {
   "cell_type": "code",
   "execution_count": 145,
   "id": "eaf55916-7e13-4e92-84f6-3a2e54296c30",
   "metadata": {},
   "outputs": [
    {
     "data": {
      "text/plain": [
       "array([[ True, False,  True,  True, False],\n",
       "       [ True, False,  True, False,  True],\n",
       "       [ True, False,  True, False,  True],\n",
       "       [False, False, False, False, False]])"
      ]
     },
     "execution_count": 145,
     "metadata": {},
     "output_type": "execute_result"
    }
   ],
   "source": [
    "arr>50"
   ]
  },
  {
   "cell_type": "code",
   "execution_count": 146,
   "id": "55b65429-e960-4c10-8d10-40eca183578c",
   "metadata": {},
   "outputs": [
    {
     "data": {
      "text/plain": [
       "array([[60, 42, 94, 76, 16],\n",
       "       [96, 21, 68, 40, 79],\n",
       "       [51, 38, 61, 12, 78],\n",
       "       [ 8, 30, 30, 24, 37]])"
      ]
     },
     "execution_count": 146,
     "metadata": {},
     "output_type": "execute_result"
    }
   ],
   "source": [
    "arr"
   ]
  },
  {
   "cell_type": "code",
   "execution_count": 149,
   "id": "b752b342-8bd5-4da0-bd6b-41cc9d2ca81b",
   "metadata": {},
   "outputs": [
    {
     "data": {
      "text/plain": [
       "array([[38, 61],\n",
       "       [30, 30]])"
      ]
     },
     "execution_count": 149,
     "metadata": {},
     "output_type": "execute_result"
    }
   ],
   "source": [
    "arr[2:4,[1,2]]"
   ]
  },
  {
   "cell_type": "code",
   "execution_count": 150,
   "id": "fe8ca710-cbb6-4b26-b849-5941b4f439b7",
   "metadata": {},
   "outputs": [],
   "source": [
    "arr[0][0]=300"
   ]
  },
  {
   "cell_type": "code",
   "execution_count": 151,
   "id": "f072d691-6e13-444f-ad2b-b963d758d218",
   "metadata": {},
   "outputs": [
    {
     "data": {
      "text/plain": [
       "array([[300,  42,  94,  76,  16],\n",
       "       [ 96,  21,  68,  40,  79],\n",
       "       [ 51,  38,  61,  12,  78],\n",
       "       [  8,  30,  30,  24,  37]])"
      ]
     },
     "execution_count": 151,
     "metadata": {},
     "output_type": "execute_result"
    }
   ],
   "source": [
    "arr"
   ]
  },
  {
   "cell_type": "code",
   "execution_count": 154,
   "id": "8f78c285-4271-4c50-81c7-f79c49ea2bd3",
   "metadata": {},
   "outputs": [],
   "source": [
    "arr1= np.random.randint(3,4,(4,4))\n",
    "arr2= np.random.randint(1,3,(4,4))"
   ]
  },
  {
   "cell_type": "code",
   "execution_count": 155,
   "id": "0fa6c89f-9401-4b55-9499-389994a7e0e3",
   "metadata": {},
   "outputs": [
    {
     "data": {
      "text/plain": [
       "array([[3, 3, 3, 3],\n",
       "       [3, 3, 3, 3],\n",
       "       [3, 3, 3, 3],\n",
       "       [3, 3, 3, 3]])"
      ]
     },
     "execution_count": 155,
     "metadata": {},
     "output_type": "execute_result"
    }
   ],
   "source": [
    "arr1"
   ]
  },
  {
   "cell_type": "code",
   "execution_count": 156,
   "id": "a9cff9ed-0b77-434e-a8c9-fb859da602b6",
   "metadata": {},
   "outputs": [
    {
     "data": {
      "text/plain": [
       "array([[1, 2, 2, 2],\n",
       "       [2, 2, 1, 2],\n",
       "       [1, 2, 2, 1],\n",
       "       [1, 2, 1, 2]])"
      ]
     },
     "execution_count": 156,
     "metadata": {},
     "output_type": "execute_result"
    }
   ],
   "source": [
    "arr2"
   ]
  },
  {
   "cell_type": "code",
   "execution_count": 157,
   "id": "7ce83255-b331-4755-9b0f-31ce1c999145",
   "metadata": {},
   "outputs": [
    {
     "data": {
      "text/plain": [
       "array([[4, 5, 5, 5],\n",
       "       [5, 5, 4, 5],\n",
       "       [4, 5, 5, 4],\n",
       "       [4, 5, 4, 5]])"
      ]
     },
     "execution_count": 157,
     "metadata": {},
     "output_type": "execute_result"
    }
   ],
   "source": [
    "arr1+arr2"
   ]
  },
  {
   "cell_type": "code",
   "execution_count": 158,
   "id": "73c9f5e7-a3d4-4829-8132-64eed4c8270d",
   "metadata": {},
   "outputs": [
    {
     "data": {
      "text/plain": [
       "array([[2, 1, 1, 1],\n",
       "       [1, 1, 2, 1],\n",
       "       [2, 1, 1, 2],\n",
       "       [2, 1, 2, 1]])"
      ]
     },
     "execution_count": 158,
     "metadata": {},
     "output_type": "execute_result"
    }
   ],
   "source": [
    "arr1-arr2"
   ]
  },
  {
   "cell_type": "code",
   "execution_count": 159,
   "id": "80bbbcaa-5294-4b3b-9af0-2c645c834090",
   "metadata": {},
   "outputs": [
    {
     "data": {
      "text/plain": [
       "array([[3. , 1.5, 1.5, 1.5],\n",
       "       [1.5, 1.5, 3. , 1.5],\n",
       "       [3. , 1.5, 1.5, 3. ],\n",
       "       [3. , 1.5, 3. , 1.5]])"
      ]
     },
     "execution_count": 159,
     "metadata": {},
     "output_type": "execute_result"
    }
   ],
   "source": [
    "arr1/arr2"
   ]
  },
  {
   "cell_type": "code",
   "execution_count": 160,
   "id": "f33fec15-5f3e-44ac-b75c-a30ce2d8d19a",
   "metadata": {},
   "outputs": [
    {
     "data": {
      "text/plain": [
       "array([[3, 6, 6, 6],\n",
       "       [6, 6, 3, 6],\n",
       "       [3, 6, 6, 3],\n",
       "       [3, 6, 3, 6]])"
      ]
     },
     "execution_count": 160,
     "metadata": {},
     "output_type": "execute_result"
    }
   ],
   "source": [
    "arr1*arr2"
   ]
  },
  {
   "cell_type": "code",
   "execution_count": 161,
   "id": "05899e21-aed4-4a56-9e4d-53b33fddd550",
   "metadata": {},
   "outputs": [
    {
     "data": {
      "text/plain": [
       "array([[15, 24, 18, 21],\n",
       "       [15, 24, 18, 21],\n",
       "       [15, 24, 18, 21],\n",
       "       [15, 24, 18, 21]])"
      ]
     },
     "execution_count": 161,
     "metadata": {},
     "output_type": "execute_result"
    }
   ],
   "source": [
    "arr1@arr2"
   ]
  },
  {
   "cell_type": "code",
   "execution_count": 162,
   "id": "30a8cbf5-4bdf-4922-8e77-8c4c068d24ee",
   "metadata": {},
   "outputs": [
    {
     "name": "stderr",
     "output_type": "stream",
     "text": [
      "/tmp/ipykernel_126/1510032488.py:1: RuntimeWarning: divide by zero encountered in divide\n",
      "  arr1/0\n"
     ]
    },
    {
     "data": {
      "text/plain": [
       "array([[inf, inf, inf, inf],\n",
       "       [inf, inf, inf, inf],\n",
       "       [inf, inf, inf, inf],\n",
       "       [inf, inf, inf, inf]])"
      ]
     },
     "execution_count": 162,
     "metadata": {},
     "output_type": "execute_result"
    }
   ],
   "source": [
    "arr1/0"
   ]
  },
  {
   "cell_type": "code",
   "execution_count": 163,
   "id": "afa28475-b6c1-4c58-8ac0-52cb6fff8ba5",
   "metadata": {},
   "outputs": [
    {
     "data": {
      "text/plain": [
       "array([[3, 3, 3, 3],\n",
       "       [3, 3, 3, 3],\n",
       "       [3, 3, 3, 3],\n",
       "       [3, 3, 3, 3]])"
      ]
     },
     "execution_count": 163,
     "metadata": {},
     "output_type": "execute_result"
    }
   ],
   "source": [
    "arr1"
   ]
  },
  {
   "cell_type": "code",
   "execution_count": 164,
   "id": "d8109944-8020-4763-b1ce-28d1647bfdd5",
   "metadata": {},
   "outputs": [
    {
     "data": {
      "text/plain": [
       "array([[103, 103, 103, 103],\n",
       "       [103, 103, 103, 103],\n",
       "       [103, 103, 103, 103],\n",
       "       [103, 103, 103, 103]])"
      ]
     },
     "execution_count": 164,
     "metadata": {},
     "output_type": "execute_result"
    }
   ],
   "source": [
    "arr1+100"
   ]
  },
  {
   "cell_type": "code",
   "execution_count": 165,
   "id": "c707bd6f-7de4-418b-9a6d-6e9c1ea11294",
   "metadata": {},
   "outputs": [
    {
     "data": {
      "text/plain": [
       "array([[9, 9, 9, 9],\n",
       "       [9, 9, 9, 9],\n",
       "       [9, 9, 9, 9],\n",
       "       [9, 9, 9, 9]])"
      ]
     },
     "execution_count": 165,
     "metadata": {},
     "output_type": "execute_result"
    }
   ],
   "source": [
    "arr1**2"
   ]
  },
  {
   "cell_type": "code",
   "execution_count": 166,
   "id": "a8da3107-c4c5-4505-8358-b965bdfe455d",
   "metadata": {},
   "outputs": [],
   "source": [
    "# Numpy- Broadcasting"
   ]
  },
  {
   "cell_type": "code",
   "execution_count": 168,
   "id": "3523cb5f-5607-4609-882c-37e5c6dd9391",
   "metadata": {},
   "outputs": [],
   "source": [
    "arr=np.zeros((3,3))"
   ]
  },
  {
   "cell_type": "code",
   "execution_count": 169,
   "id": "724e2b13-502a-4696-a31d-b5154465eead",
   "metadata": {},
   "outputs": [
    {
     "data": {
      "text/plain": [
       "array([[0., 0., 0.],\n",
       "       [0., 0., 0.],\n",
       "       [0., 0., 0.]])"
      ]
     },
     "execution_count": 169,
     "metadata": {},
     "output_type": "execute_result"
    }
   ],
   "source": [
    "arr"
   ]
  },
  {
   "cell_type": "code",
   "execution_count": 173,
   "id": "524b5288-f004-4cf5-8490-f81b51ea7f6c",
   "metadata": {},
   "outputs": [],
   "source": [
    "row=np.array([1,2,3])"
   ]
  },
  {
   "cell_type": "code",
   "execution_count": 174,
   "id": "cec6f092-7cdf-4726-8d96-55f198319677",
   "metadata": {},
   "outputs": [
    {
     "data": {
      "text/plain": [
       "array([1, 2, 3])"
      ]
     },
     "execution_count": 174,
     "metadata": {},
     "output_type": "execute_result"
    }
   ],
   "source": [
    "row"
   ]
  },
  {
   "cell_type": "code",
   "execution_count": 175,
   "id": "84fac031-a1aa-4e48-b880-16ae5303d4e5",
   "metadata": {},
   "outputs": [
    {
     "data": {
      "text/plain": [
       "array([[1., 2., 3.],\n",
       "       [1., 2., 3.],\n",
       "       [1., 2., 3.]])"
      ]
     },
     "execution_count": 175,
     "metadata": {},
     "output_type": "execute_result"
    }
   ],
   "source": [
    "arr+row"
   ]
  },
  {
   "cell_type": "code",
   "execution_count": 177,
   "id": "d0d4c116-8dc1-4b87-a202-c80c266624f0",
   "metadata": {},
   "outputs": [
    {
     "data": {
      "text/plain": [
       "array([1, 2, 3])"
      ]
     },
     "execution_count": 177,
     "metadata": {},
     "output_type": "execute_result"
    }
   ],
   "source": [
    "row.T"
   ]
  },
  {
   "cell_type": "code",
   "execution_count": 178,
   "id": "922232fb-4bc8-4269-9fee-75575b8aef5a",
   "metadata": {},
   "outputs": [],
   "source": [
    "col=np.array([[1,2,3]])"
   ]
  },
  {
   "cell_type": "code",
   "execution_count": 181,
   "id": "782635de-9e1a-48a0-ab67-8ed97ce581b2",
   "metadata": {},
   "outputs": [
    {
     "data": {
      "text/plain": [
       "array([[1., 1., 1.],\n",
       "       [2., 2., 2.],\n",
       "       [3., 3., 3.]])"
      ]
     },
     "execution_count": 181,
     "metadata": {},
     "output_type": "execute_result"
    }
   ],
   "source": [
    "col.T+arr"
   ]
  },
  {
   "cell_type": "code",
   "execution_count": 184,
   "id": "ee2c1777-93a9-4c74-b49f-7d13ca7c1b05",
   "metadata": {},
   "outputs": [],
   "source": [
    "arr1=np.random.randint(1,10,(3,4))"
   ]
  },
  {
   "cell_type": "code",
   "execution_count": 185,
   "id": "c65fce0a-3633-4a44-8510-d98682da3218",
   "metadata": {},
   "outputs": [
    {
     "data": {
      "text/plain": [
       "array([[9, 5, 8, 7],\n",
       "       [4, 8, 7, 2],\n",
       "       [5, 8, 9, 3]])"
      ]
     },
     "execution_count": 185,
     "metadata": {},
     "output_type": "execute_result"
    }
   ],
   "source": [
    "arr1"
   ]
  },
  {
   "cell_type": "code",
   "execution_count": 187,
   "id": "9aa271a0-cc3c-415d-a2ff-af52df429710",
   "metadata": {},
   "outputs": [
    {
     "data": {
      "text/plain": [
       "array([[3.        , 2.23606798, 2.82842712, 2.64575131],\n",
       "       [2.        , 2.82842712, 2.64575131, 1.41421356],\n",
       "       [2.23606798, 2.82842712, 3.        , 1.73205081]])"
      ]
     },
     "execution_count": 187,
     "metadata": {},
     "output_type": "execute_result"
    }
   ],
   "source": [
    "np.sqrt(arr1)"
   ]
  },
  {
   "cell_type": "code",
   "execution_count": 188,
   "id": "8a472500-f1a7-4314-b2fe-ff3da334098e",
   "metadata": {},
   "outputs": [
    {
     "data": {
      "text/plain": [
       "array([[8.10308393e+03, 1.48413159e+02, 2.98095799e+03, 1.09663316e+03],\n",
       "       [5.45981500e+01, 2.98095799e+03, 1.09663316e+03, 7.38905610e+00],\n",
       "       [1.48413159e+02, 2.98095799e+03, 8.10308393e+03, 2.00855369e+01]])"
      ]
     },
     "execution_count": 188,
     "metadata": {},
     "output_type": "execute_result"
    }
   ],
   "source": [
    "np.exp(arr1)"
   ]
  },
  {
   "cell_type": "code",
   "execution_count": 189,
   "id": "21c64744-afb1-4d0f-9f53-2e7fa3d2fc1c",
   "metadata": {},
   "outputs": [
    {
     "data": {
      "text/plain": [
       "array([[0.95424251, 0.69897   , 0.90308999, 0.84509804],\n",
       "       [0.60205999, 0.90308999, 0.84509804, 0.30103   ],\n",
       "       [0.69897   , 0.90308999, 0.95424251, 0.47712125]])"
      ]
     },
     "execution_count": 189,
     "metadata": {},
     "output_type": "execute_result"
    }
   ],
   "source": [
    "np.log10(arr1)"
   ]
  },
  {
   "cell_type": "code",
   "execution_count": null,
   "id": "699eed1e-e915-40f6-a05d-a20684062bbb",
   "metadata": {},
   "outputs": [],
   "source": []
  }
 ],
 "metadata": {
  "kernelspec": {
   "display_name": "Python 3 (ipykernel)",
   "language": "python",
   "name": "python3"
  },
  "language_info": {
   "codemirror_mode": {
    "name": "ipython",
    "version": 3
   },
   "file_extension": ".py",
   "mimetype": "text/x-python",
   "name": "python",
   "nbconvert_exporter": "python",
   "pygments_lexer": "ipython3",
   "version": "3.10.8"
  }
 },
 "nbformat": 4,
 "nbformat_minor": 5
}
