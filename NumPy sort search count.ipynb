{
 "cells": [
  {
   "cell_type": "code",
   "execution_count": 1,
   "id": "30e88279-df51-4ad5-9b96-44232639f379",
   "metadata": {},
   "outputs": [],
   "source": [
    "# Sort,search & Counting Function"
   ]
  },
  {
   "cell_type": "code",
   "execution_count": 2,
   "id": "ac5c5bc0-95d3-4841-857e-d889b982a6c8",
   "metadata": {},
   "outputs": [],
   "source": [
    "import numpy as np"
   ]
  },
  {
   "cell_type": "code",
   "execution_count": 5,
   "id": "ac22d611-723c-40cd-bd62-fedf1633bf7d",
   "metadata": {},
   "outputs": [],
   "source": [
    "arr=np.array([1,3,456,232,6,7,88,8,9])"
   ]
  },
  {
   "cell_type": "code",
   "execution_count": 7,
   "id": "fc712355-11fa-476d-b797-4f2c8ea756e0",
   "metadata": {},
   "outputs": [
    {
     "data": {
      "text/plain": [
       "array([  1,   3, 456, 232,   6,   7,  88,   8,   9])"
      ]
     },
     "execution_count": 7,
     "metadata": {},
     "output_type": "execute_result"
    }
   ],
   "source": [
    "arr"
   ]
  },
  {
   "cell_type": "code",
   "execution_count": 8,
   "id": "91c54736-d29d-4092-b4ef-6e175fcf1808",
   "metadata": {},
   "outputs": [
    {
     "data": {
      "text/plain": [
       "array([  1,   3,   6,   7,   8,   9,  88, 232, 456])"
      ]
     },
     "execution_count": 8,
     "metadata": {},
     "output_type": "execute_result"
    }
   ],
   "source": [
    "np.sort(arr)"
   ]
  },
  {
   "cell_type": "code",
   "execution_count": 10,
   "id": "91d64317-aa14-4a10-b2af-2078a722f634",
   "metadata": {},
   "outputs": [
    {
     "data": {
      "text/plain": [
       "9"
      ]
     },
     "execution_count": 10,
     "metadata": {},
     "output_type": "execute_result"
    }
   ],
   "source": [
    "np.searchsorted(arr,23)"
   ]
  },
  {
   "cell_type": "code",
   "execution_count": 12,
   "id": "f755751d-e6f7-44f1-9606-40eedc857c80",
   "metadata": {},
   "outputs": [],
   "source": [
    "arr1=np.array([32,2,9,0,12,4,56,0,5,0,9,0])"
   ]
  },
  {
   "cell_type": "code",
   "execution_count": 13,
   "id": "68ae102e-040e-4b42-aab1-50d43c5743c1",
   "metadata": {},
   "outputs": [
    {
     "data": {
      "text/plain": [
       "array([32,  2,  9,  0, 12,  4, 56,  0,  5,  0,  9,  0])"
      ]
     },
     "execution_count": 13,
     "metadata": {},
     "output_type": "execute_result"
    }
   ],
   "source": [
    "arr1"
   ]
  },
  {
   "cell_type": "code",
   "execution_count": 14,
   "id": "6a210db1-bb8f-4969-b345-48ae9fa2405c",
   "metadata": {},
   "outputs": [
    {
     "data": {
      "text/plain": [
       "8"
      ]
     },
     "execution_count": 14,
     "metadata": {},
     "output_type": "execute_result"
    }
   ],
   "source": [
    "np.count_nonzero(arr1)"
   ]
  },
  {
   "cell_type": "code",
   "execution_count": 16,
   "id": "b5a8a775-0e6d-40e6-a6f1-32e5180e31ca",
   "metadata": {},
   "outputs": [
    {
     "data": {
      "text/plain": [
       "array([  1,   3, 456, 232,   6,   7,  88,   8,   9])"
      ]
     },
     "execution_count": 16,
     "metadata": {},
     "output_type": "execute_result"
    }
   ],
   "source": [
    "arr"
   ]
  },
  {
   "cell_type": "code",
   "execution_count": 17,
   "id": "b14fbd37-73ad-488d-99a7-6d273481ceef",
   "metadata": {},
   "outputs": [
    {
     "data": {
      "text/plain": [
       "(array([2, 3, 6, 7, 8]),)"
      ]
     },
     "execution_count": 17,
     "metadata": {},
     "output_type": "execute_result"
    }
   ],
   "source": [
    "np.where(arr>7)"
   ]
  },
  {
   "cell_type": "code",
   "execution_count": 19,
   "id": "4234f343-cfa7-492f-8746-dec0cf214c38",
   "metadata": {},
   "outputs": [
    {
     "data": {
      "text/plain": [
       "array([456, 232,  88,   9])"
      ]
     },
     "execution_count": 19,
     "metadata": {},
     "output_type": "execute_result"
    }
   ],
   "source": [
    "np.extract(arr>8,arr)"
   ]
  },
  {
   "cell_type": "code",
   "execution_count": 20,
   "id": "13ac48f4-385b-400a-abf6-051489b99f58",
   "metadata": {},
   "outputs": [],
   "source": [
    "#NumPy - Byte Swaping"
   ]
  },
  {
   "cell_type": "code",
   "execution_count": 21,
   "id": "8f172eb5-6546-4e7a-9d80-d3fd9037efd9",
   "metadata": {},
   "outputs": [
    {
     "data": {
      "text/plain": [
       "array([  1,   3, 456, 232,   6,   7,  88,   8,   9])"
      ]
     },
     "execution_count": 21,
     "metadata": {},
     "output_type": "execute_result"
    }
   ],
   "source": [
    "arr"
   ]
  },
  {
   "cell_type": "code",
   "execution_count": 22,
   "id": "ef08bfae-c028-446b-bd77-4c28e7c6e10f",
   "metadata": {},
   "outputs": [
    {
     "data": {
      "text/plain": [
       "array([   72057594037927936,   216172782113783808, -4034943791147253760,\n",
       "       -1729382256910270464,   432345564227567616,   504403158265495552,\n",
       "        6341068275337658368,   576460752303423488,   648518346341351424])"
      ]
     },
     "execution_count": 22,
     "metadata": {},
     "output_type": "execute_result"
    }
   ],
   "source": [
    "arr.byteswap()"
   ]
  },
  {
   "cell_type": "code",
   "execution_count": 23,
   "id": "0534b41f-f185-4b5f-a753-d8509444e5ac",
   "metadata": {},
   "outputs": [],
   "source": [
    "# NumPy - Copies 7 Views"
   ]
  },
  {
   "cell_type": "code",
   "execution_count": 24,
   "id": "4d97b9e8-e478-4be5-a2f2-dd5859fa8f90",
   "metadata": {},
   "outputs": [
    {
     "data": {
      "text/plain": [
       "array([  1,   3, 456, 232,   6,   7,  88,   8,   9])"
      ]
     },
     "execution_count": 24,
     "metadata": {},
     "output_type": "execute_result"
    }
   ],
   "source": [
    "arr"
   ]
  },
  {
   "cell_type": "code",
   "execution_count": 25,
   "id": "b51f0f4f-b246-40bb-9ae2-0dba01570a91",
   "metadata": {},
   "outputs": [],
   "source": [
    "a=np.copy(arr)"
   ]
  },
  {
   "cell_type": "code",
   "execution_count": 26,
   "id": "9372bd8d-60ea-4e7d-a227-55f63de1a483",
   "metadata": {},
   "outputs": [
    {
     "data": {
      "text/plain": [
       "array([  1,   3, 456, 232,   6,   7,  88,   8,   9])"
      ]
     },
     "execution_count": 26,
     "metadata": {},
     "output_type": "execute_result"
    }
   ],
   "source": [
    "a"
   ]
  },
  {
   "cell_type": "code",
   "execution_count": 34,
   "id": "5b30b92e-0f2d-4b03-99e5-2f193e486c11",
   "metadata": {},
   "outputs": [],
   "source": [
    "b=arr.view()"
   ]
  },
  {
   "cell_type": "code",
   "execution_count": 35,
   "id": "0e327fb1-57f3-4632-97d9-4635a5fea7d6",
   "metadata": {},
   "outputs": [],
   "source": [
    "b=arr"
   ]
  },
  {
   "cell_type": "code",
   "execution_count": 28,
   "id": "f9b13057-495e-4ec7-9b00-397d973db363",
   "metadata": {},
   "outputs": [
    {
     "data": {
      "text/plain": [
       "array([  1,   3, 456, 232,   6,   7,  88,   8,   9])"
      ]
     },
     "execution_count": 28,
     "metadata": {},
     "output_type": "execute_result"
    }
   ],
   "source": [
    "b"
   ]
  },
  {
   "cell_type": "code",
   "execution_count": 30,
   "id": "d49cb5a5-29c3-42bc-b3af-c2148bb3b87a",
   "metadata": {},
   "outputs": [],
   "source": [
    "b[0]=35"
   ]
  },
  {
   "cell_type": "code",
   "execution_count": 31,
   "id": "4d2f2391-d068-44c1-97a7-ac9c9c0633a3",
   "metadata": {},
   "outputs": [
    {
     "data": {
      "text/plain": [
       "array([ 35,   3, 456, 232,   6,   7,  88,   8,   9])"
      ]
     },
     "execution_count": 31,
     "metadata": {},
     "output_type": "execute_result"
    }
   ],
   "source": [
    "b"
   ]
  },
  {
   "cell_type": "code",
   "execution_count": 32,
   "id": "07a1330c-2d70-4d96-9074-5a527bb87348",
   "metadata": {},
   "outputs": [
    {
     "data": {
      "text/plain": [
       "array([ 35,   3, 456, 232,   6,   7,  88,   8,   9])"
      ]
     },
     "execution_count": 32,
     "metadata": {},
     "output_type": "execute_result"
    }
   ],
   "source": [
    "arr"
   ]
  },
  {
   "cell_type": "code",
   "execution_count": 46,
   "id": "1abb9f3a-9e2e-44cf-a57b-6016c33e0175",
   "metadata": {},
   "outputs": [
    {
     "name": "stdout",
     "output_type": "stream",
     "text": [
      "Requirement already satisfied: numpy in /opt/conda/lib/python3.10/site-packages (1.23.5)\n",
      "Note: you may need to restart the kernel to use updated packages.\n"
     ]
    }
   ],
   "source": [
    "pip install numpy"
   ]
  },
  {
   "cell_type": "code",
   "execution_count": 52,
   "id": "ac6c9eb6-47d0-467b-90c7-77b28ef46a45",
   "metadata": {},
   "outputs": [],
   "source": [
    "import numpy.matlib as nm"
   ]
  },
  {
   "cell_type": "code",
   "execution_count": 55,
   "id": "7b2dcdc1-f51a-48ed-95f0-843dcb88c5b0",
   "metadata": {},
   "outputs": [
    {
     "data": {
      "text/plain": [
       "matrix([[0., 0., 0., 0.]])"
      ]
     },
     "execution_count": 55,
     "metadata": {},
     "output_type": "execute_result"
    }
   ],
   "source": [
    "nm.zeros(4)"
   ]
  },
  {
   "cell_type": "code",
   "execution_count": 56,
   "id": "80e3c3ab-b867-404a-b450-3a5f7939e28a",
   "metadata": {},
   "outputs": [
    {
     "data": {
      "text/plain": [
       "matrix([[1., 1., 1., 1.],\n",
       "        [1., 1., 1., 1.],\n",
       "        [1., 1., 1., 1.]])"
      ]
     },
     "execution_count": 56,
     "metadata": {},
     "output_type": "execute_result"
    }
   ],
   "source": [
    "nm.ones((3,4))"
   ]
  },
  {
   "cell_type": "code",
   "execution_count": 57,
   "id": "580b47a0-fee6-444d-b824-c4c3d9a3b2c5",
   "metadata": {},
   "outputs": [
    {
     "data": {
      "text/plain": [
       "matrix([[1., 0., 0., 0., 0.],\n",
       "        [0., 1., 0., 0., 0.],\n",
       "        [0., 0., 1., 0., 0.],\n",
       "        [0., 0., 0., 1., 0.],\n",
       "        [0., 0., 0., 0., 1.]])"
      ]
     },
     "execution_count": 57,
     "metadata": {},
     "output_type": "execute_result"
    }
   ],
   "source": [
    "nm.eye(5)"
   ]
  },
  {
   "cell_type": "code",
   "execution_count": 58,
   "id": "a2783d76-f013-4cf0-9581-ce0a11a9edd0",
   "metadata": {},
   "outputs": [],
   "source": [
    "# NumPy - Linear algebra"
   ]
  },
  {
   "cell_type": "code",
   "execution_count": 75,
   "id": "b2cafc81-015f-4d2e-940d-36dba0eed4de",
   "metadata": {},
   "outputs": [],
   "source": [
    "arr1= np.random.randint(1,10,(4,5))\n",
    "arr2= np.random.randint(1,7,(5,2))"
   ]
  },
  {
   "cell_type": "code",
   "execution_count": 76,
   "id": "54db0dff-7e95-4e48-884b-361a04f837c2",
   "metadata": {},
   "outputs": [
    {
     "data": {
      "text/plain": [
       "array([[8, 7, 4, 3, 8],\n",
       "       [2, 5, 3, 2, 7],\n",
       "       [4, 6, 7, 5, 3],\n",
       "       [3, 9, 6, 6, 4]])"
      ]
     },
     "execution_count": 76,
     "metadata": {},
     "output_type": "execute_result"
    }
   ],
   "source": [
    "arr1"
   ]
  },
  {
   "cell_type": "code",
   "execution_count": 77,
   "id": "22c27c06-557b-4b89-a642-746a85c6d1a7",
   "metadata": {},
   "outputs": [
    {
     "data": {
      "text/plain": [
       "array([[5, 2],\n",
       "       [1, 1],\n",
       "       [2, 3],\n",
       "       [2, 1],\n",
       "       [2, 2]])"
      ]
     },
     "execution_count": 77,
     "metadata": {},
     "output_type": "execute_result"
    }
   ],
   "source": [
    "arr2"
   ]
  },
  {
   "cell_type": "code",
   "execution_count": 78,
   "id": "88d2f4a4-b055-4841-9e56-948d4062f8f0",
   "metadata": {},
   "outputs": [
    {
     "data": {
      "text/plain": [
       "array([[77, 54],\n",
       "       [39, 34],\n",
       "       [56, 46],\n",
       "       [56, 47]])"
      ]
     },
     "execution_count": 78,
     "metadata": {},
     "output_type": "execute_result"
    }
   ],
   "source": [
    "np.dot(arr1,arr2)"
   ]
  },
  {
   "cell_type": "code",
   "execution_count": 79,
   "id": "a7857246-9b09-4d05-8d5a-1629c2d385b2",
   "metadata": {},
   "outputs": [
    {
     "data": {
      "text/plain": [
       "array([[77, 54],\n",
       "       [39, 34],\n",
       "       [56, 46],\n",
       "       [56, 47]])"
      ]
     },
     "execution_count": 79,
     "metadata": {},
     "output_type": "execute_result"
    }
   ],
   "source": [
    "arr1@arr2"
   ]
  },
  {
   "cell_type": "code",
   "execution_count": null,
   "id": "e178ba77-e093-44c5-bebf-8d89e2c1ac0f",
   "metadata": {},
   "outputs": [],
   "source": []
  }
 ],
 "metadata": {
  "kernelspec": {
   "display_name": "Python 3 (ipykernel)",
   "language": "python",
   "name": "python3"
  },
  "language_info": {
   "codemirror_mode": {
    "name": "ipython",
    "version": 3
   },
   "file_extension": ".py",
   "mimetype": "text/x-python",
   "name": "python",
   "nbconvert_exporter": "python",
   "pygments_lexer": "ipython3",
   "version": "3.10.8"
  }
 },
 "nbformat": 4,
 "nbformat_minor": 5
}
